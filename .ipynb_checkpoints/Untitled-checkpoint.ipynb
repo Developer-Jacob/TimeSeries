{
 "cells": [
  {
   "cell_type": "code",
   "execution_count": 7,
   "id": "ddb6c1fa",
   "metadata": {},
   "outputs": [
    {
     "ename": "NameError",
     "evalue": "name 'predict_count' is not defined",
     "output_type": "error",
     "traceback": [
      "\u001b[1;31m---------------------------------------------------------------------------\u001b[0m",
      "\u001b[1;31mNameError\u001b[0m                                 Traceback (most recent call last)",
      "\u001b[1;32m~\\AppData\\Local\\Temp/ipykernel_32148/4171757449.py\u001b[0m in \u001b[0;36m<module>\u001b[1;34m\u001b[0m\n\u001b[0;32m     12\u001b[0m \u001b[1;33m\u001b[0m\u001b[0m\n\u001b[0;32m     13\u001b[0m \u001b[0mrow_data\u001b[0m \u001b[1;33m=\u001b[0m \u001b[0mscaled_all_data\u001b[0m\u001b[1;33m(\u001b[0m\u001b[1;33m)\u001b[0m\u001b[1;33m\u001b[0m\u001b[1;33m\u001b[0m\u001b[0m\n\u001b[1;32m---> 14\u001b[1;33m \u001b[0mtrain_count\u001b[0m \u001b[1;33m=\u001b[0m \u001b[0mlen\u001b[0m\u001b[1;33m(\u001b[0m\u001b[0mrow_data\u001b[0m\u001b[1;33m)\u001b[0m \u001b[1;33m-\u001b[0m \u001b[0mpredict_count\u001b[0m\u001b[1;33m\u001b[0m\u001b[1;33m\u001b[0m\u001b[0m\n\u001b[0m\u001b[0;32m     15\u001b[0m \u001b[0mrow_train\u001b[0m \u001b[1;33m=\u001b[0m \u001b[0mrow_data\u001b[0m\u001b[1;33m[\u001b[0m\u001b[1;33m-\u001b[0m\u001b[0mtrain_count\u001b[0m\u001b[1;33m:\u001b[0m\u001b[1;33m]\u001b[0m\u001b[1;33m\u001b[0m\u001b[1;33m\u001b[0m\u001b[0m\n\u001b[0;32m     16\u001b[0m \u001b[0mrow_test\u001b[0m \u001b[1;33m=\u001b[0m \u001b[0mrow_data\u001b[0m\u001b[1;33m[\u001b[0m\u001b[1;33m:\u001b[0m\u001b[1;33m-\u001b[0m\u001b[0mtrain_count\u001b[0m\u001b[1;33m]\u001b[0m\u001b[1;33m\u001b[0m\u001b[1;33m\u001b[0m\u001b[0m\n",
      "\u001b[1;31mNameError\u001b[0m: name 'predict_count' is not defined"
     ]
    }
   ],
   "source": [
    "import matplotlib.pyplot as plt\n",
    "import gc\n",
    "from sklearn.preprocessing import MinMaxScaler\n",
    "from torch.utils.data import DataLoader, Dataset\n",
    "from window_data import *\n",
    "from tf_model import *\n",
    "from tqdm import tqdm\n",
    "from save_load import load_model, save\n",
    "from row_data import *\n",
    "import torch\n",
    "\n",
    "PATH = './time_serial_100_300.pt'\n",
    "predict_count = 100\n",
    "input_window = predict_count * 2\n",
    "output_window = predict_count\n",
    "epoch = 1000\n",
    "\n",
    "\n",
    "row_data = scaled_all_data()\n",
    "train_count = len(row_data) - predict_count\n",
    "row_train = row_data[-train_count:]\n",
    "row_test = row_data[:-train_count]"
   ]
  },
  {
   "cell_type": "code",
   "execution_count": null,
   "id": "247a207d",
   "metadata": {},
   "outputs": [],
   "source": [
    "min_max_scaler = MinMaxScaler()\n",
    "start = min_max_scaler.fit_transform(row_start_data())\n",
    "\n",
    "input = torch.tensor(row_train[-input_window:]).reshape(1, -1, 5).float()\n",
    "result = evaluate(PATH, input)\n",
    "\n",
    "result = min_max_scaler.inverse_transform(result)[0]\n",
    "real = min_max_scaler.inverse_transform(start.reshape(-1, 1))[:, 0]\n",
    "\n",
    "show(real, result)"
   ]
  }
 ],
 "metadata": {
  "kernelspec": {
   "display_name": "Python 3 (ipykernel)",
   "language": "python",
   "name": "python3"
  },
  "language_info": {
   "codemirror_mode": {
    "name": "ipython",
    "version": 3
   },
   "file_extension": ".py",
   "mimetype": "text/x-python",
   "name": "python",
   "nbconvert_exporter": "python",
   "pygments_lexer": "ipython3",
   "version": "3.9.6"
  }
 },
 "nbformat": 4,
 "nbformat_minor": 5
}
